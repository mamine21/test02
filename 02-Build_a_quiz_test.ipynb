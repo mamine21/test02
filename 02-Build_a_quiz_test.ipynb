{
 "cells": [
  {
   "cell_type": "markdown",
   "metadata": {
    "colab_type": "text",
    "id": "FY347VxWs_bJ"
   },
   "source": [
    "# Build a quizz\n",
    "\n",
    "---\n",
    "\n",
    "\n"
   ]
  },
  {
   "cell_type": "markdown",
   "metadata": {
    "colab_type": "text",
    "id": "qJizpyqVwYnF"
   },
   "source": [
    "Let's tackle our first project together. Find a partner and start coding a quiz together! Your program should: \n",
    "\n",
    "1. Ask a question to a user via the console \n",
    "2. Verify whether the answer is correct or not \n",
    "3. If the answer is correct, you should print out: `Good job! This is the right answer`\n",
    "\n",
    "* Else, it should print out : `Too bad! that is not the correct answer`\n",
    "\n",
    "4. Ask three questions following this model.\n",
    "\n"
   ]
  },
  {
   "cell_type": "code",
   "execution_count": null,
   "metadata": {},
   "outputs": [],
   "source": []
  },
  {
   "cell_type": "code",
   "execution_count": 2,
   "metadata": {},
   "outputs": [
    {
     "name": "stdout",
     "output_type": "stream",
     "text": [
      "welcom to our Quizz \n",
      " \n",
      "_______ question___1____ \n",
      "\n"
     ]
    },
    {
     "name": "stdin",
     "output_type": "stream",
     "text": [
      "whats my name ? Amine\n"
     ]
    },
    {
     "name": "stdout",
     "output_type": "stream",
     "text": [
      " \n"
     ]
    },
    {
     "name": "stdin",
     "output_type": "stream",
     "text": [
      "whats my name ? er\n",
      "whats my name ? er\n"
     ]
    },
    {
     "name": "stdout",
     "output_type": "stream",
     "text": [
      "Too bad! that is not the correct answer\n",
      " \n",
      "_______ question___2____ \n",
      "\n"
     ]
    },
    {
     "name": "stdin",
     "output_type": "stream",
     "text": [
      "whats my job ? er\n"
     ]
    },
    {
     "name": "stdout",
     "output_type": "stream",
     "text": [
      "Too bad! that is not the correct answer\n",
      " \n",
      "_______ question___3____  \n",
      " \n"
     ]
    },
    {
     "name": "stdin",
     "output_type": "stream",
     "text": [
      "were do i live ? er\n"
     ]
    },
    {
     "name": "stdout",
     "output_type": "stream",
     "text": [
      "Too bad! that is not the correct answer\n"
     ]
    }
   ],
   "source": [
    "print ('welcom to our Quizz ')\n",
    "print (' ')\n",
    "print ('_______ question___1____ ')\n",
    "print ('')\n",
    "\n",
    "\n",
    "name = input('whats my name ?')\n",
    "\n",
    "while name != 'Amine' :\n",
    "    print ('Too bad! that is not the correct answer')\n",
    "    name = input('whats my name ?')\n",
    "    \n",
    "\n",
    "    #print ('Too bad! that is not the correct answer')\n",
    "print (' ')\n",
    "\n",
    "name = input('whats my name ?')\n",
    "\n",
    "if name == 'Amine' :\n",
    "    print ('Good job! This is the right answer')\n",
    "else :\n",
    "    input('whats my name ?')\n",
    "    print ('Too bad! that is not the correct answer')\n",
    "print (' ')\n",
    "print ('_______ question___2____ ')\n",
    "print ('')\n",
    "\n",
    "job = input('whats my job ?')\n",
    "\n",
    "if job == 'ing' :\n",
    "    print ('Good job! This is the right answer')\n",
    "else :\n",
    "    print ('Too bad! that is not the correct answer')\n",
    "print (' ')    \n",
    "print ('_______ question___3____  ')\n",
    "print (' ')\n",
    "\n",
    "adresse = input('were do i live ?')\n",
    "\n",
    "if adresse == 'Alg' :\n",
    "    print ('Good job! This is the right answer')\n",
    "else :\n",
    "    print ('Too bad! that is not the correct answer')\n",
    "\n",
    "\n"
   ]
  },
  {
   "cell_type": "code",
   "execution_count": 4,
   "metadata": {},
   "outputs": [
    {
     "name": "stdout",
     "output_type": "stream",
     "text": [
      "welcom to our Quizz \n",
      " \n",
      "_______ question___1____ \n",
      "\n"
     ]
    },
    {
     "name": "stdin",
     "output_type": "stream",
     "text": [
      "whats my name ? Amine\n"
     ]
    },
    {
     "name": "stdout",
     "output_type": "stream",
     "text": [
      "good job\n"
     ]
    }
   ],
   "source": [
    "print ('welcom to our Quizz ')\n",
    "print (' ')\n",
    "print ('_______ question___1____ ')\n",
    "print ('')\n",
    "\n",
    "\n",
    "name = input('whats my name ?')\n",
    "\n",
    "while name != 'Amine' :\n",
    "    print ('Too bad! that is not the correct answer')\n",
    "    name = input('whats my name ?')\n",
    "    \n",
    "\n",
    "    #print ('Too bad! that is not the correct answer')\n",
    "print ('good job')"
   ]
  },
  {
   "cell_type": "code",
   "execution_count": null,
   "metadata": {},
   "outputs": [],
   "source": []
  },
  {
   "cell_type": "code",
   "execution_count": 3,
   "metadata": {},
   "outputs": [
    {
     "name": "stdout",
     "output_type": "stream",
     "text": [
      "Here you have our quiz !\n",
      "\n",
      "_____________Question n_1___________\n",
      "\n"
     ]
    },
    {
     "name": "stdin",
     "output_type": "stream",
     "text": [
      "Q1: quel est le nom de fondateur de jedha ? Antoine\n"
     ]
    },
    {
     "name": "stdout",
     "output_type": "stream",
     "text": [
      "Good job! This is the right answer c est Antoine\n",
      "\n",
      "_____________Question n_2___________\n",
      "\n"
     ]
    },
    {
     "name": "stdin",
     "output_type": "stream",
     "text": [
      "Q2: combien de formation propose Jedha ? 4\n"
     ]
    },
    {
     "name": "stdout",
     "output_type": "stream",
     "text": [
      "Good job! This is the right answer!! 4 formations\n",
      "\n",
      "_____________Question n_3___________\n",
      "\n"
     ]
    },
    {
     "name": "stdin",
     "output_type": "stream",
     "text": [
      "Q3: dans quelle ville se trouve Jedha ? Paris\n"
     ]
    },
    {
     "name": "stdout",
     "output_type": "stream",
     "text": [
      "Good job! This is the right answer!! cest Paris\n",
      "Well done! You are the quiz winner!\n"
     ]
    }
   ],
   "source": [
    "print('Here you have our quiz !')\n",
    "\n",
    "print()\n",
    "print('_____________Question n_1___________')\n",
    "print()\n",
    "answer_1 = 'Antoine'\n",
    "Q1 = input('Q1: quel est le nom de fondateur de jedha ?')\n",
    "while Q1 != answer_1:\n",
    "    \n",
    "    print('Too bad! That is not the correct answer')\n",
    "    Q1 = input('Q1: quel est le nom de fondateur de jedha ?')\n",
    "    \n",
    "print('Good job! This is the right answer c est Antoine')\n",
    "\n",
    "print()\n",
    "print('_____________Question n_2___________')\n",
    "print()\n",
    "answer_2 = '4'\n",
    "Q2 = input('Q2: combien de formation propose Jedha ?')\n",
    "while Q2 != answer_2:\n",
    "    print('Too bad! That is not the correct answer')\n",
    "    Q2 = input('Q2: combien de formation propose Jedha ?')\n",
    "\n",
    "print('Good job! This is the right answer!! 4 formations')\n",
    "\n",
    "print()\n",
    "print('_____________Question n_3___________')\n",
    "print()\n",
    "answer_3 = 'Paris'\n",
    "Q3 = input('Q3: dans quelle ville se trouve Jedha ?')\n",
    "while Q3 != answer_3:\n",
    "    print('Too bad! That is not the correct answer')\n",
    "    Q3 = input('Q3: dans quelle ville se trouve Jedha ?')\n",
    "\n",
    "print('Good job! This is the right answer!! cest Paris')\n",
    "\n",
    "print('Well done! You are the quiz winner!')"
   ]
  },
  {
   "cell_type": "code",
   "execution_count": 3,
   "metadata": {},
   "outputs": [
    {
     "name": "stdout",
     "output_type": "stream",
     "text": [
      "Here you have our quiz !\n",
      "\n",
      "_____________Question n_1___________\n",
      "\n"
     ]
    },
    {
     "name": "stdin",
     "output_type": "stream",
     "text": [
      "Q1: quel est le nom de fondateur de jedha ? Antoine\n"
     ]
    },
    {
     "name": "stdout",
     "output_type": "stream",
     "text": [
      "Good job! This is the right answer c est Antoine\n",
      "\n",
      "_____________Question n_2___________\n",
      "\n"
     ]
    },
    {
     "name": "stdin",
     "output_type": "stream",
     "text": [
      "Q2: combien de formation propose Jedha ? 4\n"
     ]
    },
    {
     "name": "stdout",
     "output_type": "stream",
     "text": [
      "Good job! This is the right answer!! 4 formations\n",
      "\n",
      "_____________Question n_3___________\n",
      "\n"
     ]
    },
    {
     "name": "stdin",
     "output_type": "stream",
     "text": [
      "Q3: dans quelle ville se trouve Jedha ? r\n"
     ]
    },
    {
     "name": "stdout",
     "output_type": "stream",
     "text": [
      "Dommage ! Il te reste 2 chances\n"
     ]
    },
    {
     "name": "stdin",
     "output_type": "stream",
     "text": [
      "Q3: dans quelle ville se trouve Jedha ? r\n"
     ]
    },
    {
     "name": "stdout",
     "output_type": "stream",
     "text": [
      "Dommage ! Il te reste 1 chances\n"
     ]
    },
    {
     "name": "stdin",
     "output_type": "stream",
     "text": [
      "Q3: dans quelle ville se trouve Jedha ? Paris\n"
     ]
    },
    {
     "name": "stdout",
     "output_type": "stream",
     "text": [
      "Good job! This is the right answer!! cest Paris\n",
      "\n",
      "Well done! You are the quiz winner!\n"
     ]
    }
   ],
   "source": [
    "print('Here you have our quiz !')\n",
    "\n",
    "print()\n",
    "print('_____________Question n_1___________')\n",
    "print()\n",
    "compte =0\n",
    "answer_1 = 'Antoine'\n",
    "if compte < 3:\n",
    "    \n",
    "    Q1 = input('Q1: quel est le nom de fondateur de jedha ?')\n",
    "    while Q1 != answer_1:\n",
    "        compte+=1\n",
    "        nbr_chance = 3-compte\n",
    "        print(\"Dommage ! Il te reste {} chances\".format(nbr_chance))\n",
    "        Q1 = input('Q1: quel est le nom de fondateur de jedha ?')\n",
    "        if compte ==3:\n",
    "            \n",
    "            print('game over')\n",
    "            break    \n",
    "\n",
    "\n",
    "if compte < 3:\n",
    "    print('Good job! This is the right answer c est Antoine')\n",
    "    print()\n",
    "    print('_____________Question n_2___________')\n",
    "    print()\n",
    "    answer_2 = '4'\n",
    "    Q2 = input('Q2: combien de formation propose Jedha ?')\n",
    "    while Q2 != answer_2:\n",
    "        compte+=1\n",
    "        nbr_chance = 3-compte\n",
    "        print(\"Dommage ! Il te reste {} chances\".format(nbr_chance))\n",
    "        if compte ==3:\n",
    "            \n",
    "            print('game over')\n",
    "            break\n",
    "        Q2 = input('Q2: combien de formation propose Jedha ?')\n",
    "            \n",
    "    \n",
    "\n",
    "if compte < 3:\n",
    "    print('Good job! This is the right answer!! 4 formations')\n",
    "    print()\n",
    "    print('_____________Question n_3___________')\n",
    "    print()\n",
    "    answer_3 = 'Paris'\n",
    "    Q3 = input('Q3: dans quelle ville se trouve Jedha ?')\n",
    "    while Q3 != answer_3:\n",
    "        compte+=1\n",
    "        nbr_chance = 3-compte\n",
    "        print(\"Dommage ! Il te reste {} chances\".format(nbr_chance))\n",
    "        if compte ==3:\n",
    "            \n",
    "            print('game over')\n",
    "            break\n",
    "        Q3 = input('Q3: dans quelle ville se trouve Jedha ?')\n",
    "if compte < 3:\n",
    "    \n",
    "    print('Good job! This is the right answer!! cest Paris')\n",
    "    print()\n",
    "    print('Well done! You are the quiz winner!')\n"
   ]
  },
  {
   "cell_type": "code",
   "execution_count": null,
   "metadata": {},
   "outputs": [],
   "source": []
  },
  {
   "cell_type": "code",
   "execution_count": 7,
   "metadata": {},
   "outputs": [
    {
     "name": "stdout",
     "output_type": "stream",
     "text": [
      "encore\n",
      "0\n",
      "encore\n",
      "1\n",
      "encore\n",
      "2\n",
      "3\n"
     ]
    }
   ],
   "source": [
    "compte =0\n",
    "for i in range(3):\n",
    "    \n",
    "    print ('encore')\n",
    "    print(compte)    \n",
    "    compte+=1    \n",
    "print(compte)"
   ]
  },
  {
   "cell_type": "code",
   "execution_count": null,
   "metadata": {},
   "outputs": [],
   "source": []
  },
  {
   "cell_type": "code",
   "execution_count": 4,
   "metadata": {},
   "outputs": [
    {
     "name": "stdout",
     "output_type": "stream",
     "text": [
      "Welcome to our quizz!\n",
      "You have 3 lives !\n",
      "\n",
      "_____________Question n_1___________\n",
      "\n"
     ]
    },
    {
     "name": "stdin",
     "output_type": "stream",
     "text": [
      "Q1: quel est le nom de fondateur de jedha ? Antoine\n"
     ]
    },
    {
     "name": "stdout",
     "output_type": "stream",
     "text": [
      "Good job! This is the right answer c est Antoine\n",
      "\n",
      "_____________Question n_2___________\n",
      "\n"
     ]
    },
    {
     "name": "stdin",
     "output_type": "stream",
     "text": [
      "Q2: combien de formation propose Jedha ? 4\n"
     ]
    },
    {
     "name": "stdout",
     "output_type": "stream",
     "text": [
      "Good job! This is the right answer!! 4 formations\n",
      "\n",
      "_____________Question n_3___________\n",
      "\n"
     ]
    },
    {
     "name": "stdin",
     "output_type": "stream",
     "text": [
      "Q3: dans quelle ville se trouve Jedha ? 3\n"
     ]
    },
    {
     "name": "stdout",
     "output_type": "stream",
     "text": [
      "Too bad! That is not the correct answer\n"
     ]
    },
    {
     "name": "stdin",
     "output_type": "stream",
     "text": [
      "Q3: dans quelle ville se trouve Jedha ? 3\n"
     ]
    },
    {
     "name": "stdout",
     "output_type": "stream",
     "text": [
      "Too bad! That is not the correct answer\n"
     ]
    },
    {
     "name": "stdin",
     "output_type": "stream",
     "text": [
      "Q3: dans quelle ville se trouve Jedha ? 3\n"
     ]
    },
    {
     "name": "stdout",
     "output_type": "stream",
     "text": [
      "Too bad! That is not the correct answer\n"
     ]
    },
    {
     "name": "stdin",
     "output_type": "stream",
     "text": [
      "Q3: dans quelle ville se trouve Jedha ? 3\n"
     ]
    },
    {
     "name": "stdout",
     "output_type": "stream",
     "text": [
      "Too bad! That is not the correct answer\n"
     ]
    },
    {
     "name": "stdin",
     "output_type": "stream",
     "text": [
      "Q3: dans quelle ville se trouve Jedha ? 3\n"
     ]
    },
    {
     "name": "stdout",
     "output_type": "stream",
     "text": [
      "Too bad! That is not the correct answer\n"
     ]
    },
    {
     "name": "stdin",
     "output_type": "stream",
     "text": [
      "Q3: dans quelle ville se trouve Jedha ? Paris\n"
     ]
    },
    {
     "name": "stdout",
     "output_type": "stream",
     "text": [
      "Good job! This is the right answer!! cest Paris\n",
      "Well done! You are the quiz winner!\n",
      "0\n"
     ]
    }
   ],
   "source": [
    "print('Welcome to our quizz!')\n",
    "print('You have 3 lives !')\n",
    "count = 0\n",
    "print()\n",
    "print('_____________Question n_1___________')\n",
    "print()\n",
    "\n",
    "if count < 2 :\n",
    "    \n",
    "\n",
    "    answer_1 = 'Antoine'\n",
    "    Q1 = input('Q1: quel est le nom de fondateur de jedha ?')\n",
    "    while Q1 != answer_1:\n",
    "        count+=1\n",
    "        print('Too bad! That is not the correct answer')\n",
    "        Q1 = input('Q1: quel est le nom de fondateur de jedha ?')\n",
    "    \n",
    "    print('Good job! This is the right answer c est Antoine')\n",
    "\n",
    "    print()\n",
    "    print('_____________Question n_2___________')\n",
    "    print()\n",
    "    answer_2 = '4'\n",
    "    Q2 = input('Q2: combien de formation propose Jedha ?')\n",
    "    while Q2 != answer_2:\n",
    "        print('Too bad! That is not the correct answer')\n",
    "        Q2 = input('Q2: combien de formation propose Jedha ?')\n",
    "\n",
    "    print('Good job! This is the right answer!! 4 formations')\n",
    "\n",
    "    print()\n",
    "    print('_____________Question n_3___________')\n",
    "    print()\n",
    "    answer_3 = 'Paris'\n",
    "    Q3 = input('Q3: dans quelle ville se trouve Jedha ?')\n",
    "    while Q3 != answer_3:\n",
    "        print('Too bad! That is not the correct answer')\n",
    "        Q3 = input('Q3: dans quelle ville se trouve Jedha ?')\n",
    "\n",
    "    print('Good job! This is the right answer!! cest Paris')\n",
    "\n",
    "    print('Well done! You are the quiz winner!')\n",
    "    print(count)\n",
    "    \n",
    "if count == 2 :\n",
    "    print('Too bad, you lost the game !')"
   ]
  },
  {
   "cell_type": "code",
   "execution_count": null,
   "metadata": {
    "colab": {
     "base_uri": "https://localhost:8080/",
     "height": 136
    },
    "colab_type": "code",
    "id": "EQxWuVl7yFoU",
    "outputId": "cf3ee10c-9d8f-4d96-82b0-f730321d4a2f"
   },
   "outputs": [],
   "source": []
  },
  {
   "cell_type": "markdown",
   "metadata": {
    "colab_type": "text",
    "id": "sLMbYgaOyxiX"
   },
   "source": [
    "There's a problem with our quizz : if the user has not given the right answer, the program goes to next question. We would rather like to ask again the same question if the answer was wrong.\n",
    "\n",
    "5. Using a `while` loop, make sure that the same question will be asked again when the answer was wrong\n",
    "\n",
    "6. Rewrite your code such that this behaviour is applied to all questions."
   ]
  },
  {
   "cell_type": "code",
   "execution_count": null,
   "metadata": {
    "colab": {
     "base_uri": "https://localhost:8080/",
     "height": 170
    },
    "colab_type": "code",
    "id": "csyxqJzBxPfN",
    "outputId": "0e671bec-2b70-424e-f110-d4792423dd7a"
   },
   "outputs": [],
   "source": []
  },
  {
   "cell_type": "markdown",
   "metadata": {
    "colab_type": "text",
    "id": "nh4voWn8x3dM"
   },
   "source": [
    "Now, we would like to tackle a last problem : we want to allow only 3 wrong answers (among all questions).\n",
    "\n",
    "7. Improve your code : if the user makes 3 wrong answers, the program should stop and print (\"Too bad, you lost the game !\")\n"
   ]
  },
  {
   "cell_type": "code",
   "execution_count": null,
   "metadata": {
    "colab": {
     "base_uri": "https://localhost:8080/",
     "height": 170
    },
    "colab_type": "code",
    "id": "adKPQe1Hsi2g",
    "outputId": "45d36fc8-90ae-4f00-b73a-73b1e6e57e6e",
    "tags": []
   },
   "outputs": [],
   "source": []
  },
  {
   "cell_type": "code",
   "execution_count": null,
   "metadata": {
    "colab": {},
    "colab_type": "code",
    "id": "rA-XJKh-orgc"
   },
   "outputs": [],
   "source": []
  }
 ],
 "metadata": {
  "colab": {
   "name": "Construire un quiz - SOLUTIONS S1-1A.ipynb",
   "provenance": []
  },
  "kernelspec": {
   "display_name": "Python 3 (ipykernel)",
   "language": "python",
   "name": "python3"
  },
  "language_info": {
   "codemirror_mode": {
    "name": "ipython",
    "version": 3
   },
   "file_extension": ".py",
   "mimetype": "text/x-python",
   "name": "python",
   "nbconvert_exporter": "python",
   "pygments_lexer": "ipython3",
   "version": "3.9.7"
  }
 },
 "nbformat": 4,
 "nbformat_minor": 4
}
